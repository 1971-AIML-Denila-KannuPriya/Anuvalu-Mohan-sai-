{
 "cells": [
  {
   "cell_type": "code",
   "execution_count": 1,
   "id": "37225cd1-63ae-418a-8114-3366ab192022",
   "metadata": {},
   "outputs": [
    {
     "name": "stdout",
     "output_type": "stream",
     "text": [
      "[2, 4]\n"
     ]
    }
   ],
   "source": [
    "def find_duplicates(lst):\n",
    "    return list(set([x for x in lst if lst.count(x) > 1]))\n",
    "\n",
    "\n",
    "lst = [1, 2, 2, 3, 4, 4, 5]\n",
    "print(find_duplicates(lst))  "
   ]
  },
  {
   "cell_type": "code",
   "execution_count": 2,
   "id": "84a1a573-67da-4e9f-a0a3-707f6cfd1d74",
   "metadata": {},
   "outputs": [
    {
     "name": "stdout",
     "output_type": "stream",
     "text": [
      "True\n"
     ]
    }
   ],
   "source": [
    "import re\n",
    "\n",
    "def is_palindrome(s):\n",
    "    s = re.sub(r'[^a-zA-Z0-9]', '', s).lower()\n",
    "    return s == s[::-1]\n",
    "\n",
    "\n",
    "s = \"A man, a plan, a canal: Panama\"\n",
    "print(is_palindrome(s))  \n"
   ]
  },
  {
   "cell_type": "code",
   "execution_count": 3,
   "id": "c78a1b62-804b-4fa3-aeaa-9aeac01af083",
   "metadata": {},
   "outputs": [
    {
     "name": "stdout",
     "output_type": "stream",
     "text": [
      "[2, 2, 2, 7]\n"
     ]
    }
   ],
   "source": [
    "def prime_factors(n):\n",
    "    factors = []\n",
    "    divisor = 2\n",
    "    while n > 1:\n",
    "        while n % divisor == 0:\n",
    "            factors.append(divisor)\n",
    "            n //= divisor\n",
    "        divisor += 1\n",
    "    return factors\n",
    "\n",
    "\n",
    "n = 56\n",
    "print(prime_factors(n))  \n"
   ]
  },
  {
   "cell_type": "code",
   "execution_count": 4,
   "id": "8e6ef805-2f5a-403e-b950-dfe7cd6e4583",
   "metadata": {},
   "outputs": [
    {
     "name": "stdout",
     "output_type": "stream",
     "text": [
      "4\n"
     ]
    }
   ],
   "source": [
    "def count_words(sentence):\n",
    "    return len(sentence.split())\n",
    "\n",
    "\n",
    "sentence = \"Hello, how are you?\"\n",
    "print(count_words(sentence))  \n"
   ]
  },
  {
   "cell_type": "code",
   "execution_count": 5,
   "id": "2a4230bb-0dbb-4f11-a28d-512c422fe905",
   "metadata": {},
   "outputs": [
    {
     "name": "stdout",
     "output_type": "stream",
     "text": [
      "[4, 5, 1, 2, 3]\n"
     ]
    }
   ],
   "source": [
    "def rotate_list(lst, steps):\n",
    "    steps = steps % len(lst)\n",
    "    return lst[-steps:] + lst[:-steps]\n",
    "\n",
    "lst = [1, 2, 3, 4, 5]\n",
    "steps = 2\n",
    "print(rotate_list(lst, steps))  \n"
   ]
  },
  {
   "cell_type": "code",
   "execution_count": 6,
   "id": "27faaff5-63e2-4339-bf41-205cd5649e2d",
   "metadata": {},
   "outputs": [
    {
     "name": "stdout",
     "output_type": "stream",
     "text": [
      "r\n"
     ]
    }
   ],
   "source": [
    "def first_repeating_char(s):\n",
    "    seen = set()\n",
    "    for char in s:\n",
    "        if char in seen:\n",
    "            return char\n",
    "        seen.add(char)\n",
    "    return None\n",
    "\n",
    "s = \"programming\"\n",
    "print(first_repeating_char(s)) \n"
   ]
  },
  {
   "cell_type": "code",
   "execution_count": 7,
   "id": "e60fe289-fffa-407d-8c77-94586e87e655",
   "metadata": {},
   "outputs": [
    {
     "name": "stdout",
     "output_type": "stream",
     "text": [
      "{'a': 1, 'b': 5, 'c': 4}\n"
     ]
    }
   ],
   "source": [
    "def merge_dicts(dict1, dict2):\n",
    "    merged = dict1.copy()\n",
    "    for key, value in dict2.items():\n",
    "        merged[key] = merged.get(key, 0) + value\n",
    "    return merged\n",
    "\n",
    "\n",
    "dict1 = {'a': 1, 'b': 2}\n",
    "dict2 = {'b': 3, 'c': 4}\n",
    "print(merge_dicts(dict1, dict2))  \n"
   ]
  },
  {
   "cell_type": "code",
   "execution_count": 8,
   "id": "aa3a3b80-cf87-471f-89b5-5212fb0cad94",
   "metadata": {},
   "outputs": [
    {
     "name": "stdout",
     "output_type": "stream",
     "text": [
      "[(4, 5), (2, 7)]\n"
     ]
    }
   ],
   "source": [
    "def find_pairs(arr, target):\n",
    "    pairs = []\n",
    "    seen = set()\n",
    "    for num in arr:\n",
    "        diff = target - num\n",
    "        if diff in seen:\n",
    "            pairs.append((diff, num))\n",
    "        seen.add(num)\n",
    "    return pairs\n",
    "\n",
    "\n",
    "arr = [2, 4, 3, 5, 7]\n",
    "target = 9\n",
    "print(find_pairs(arr, target))  \n"
   ]
  },
  {
   "cell_type": "code",
   "execution_count": 9,
   "id": "252f897b-cb24-4b7d-a7b7-c2ce893ff9d4",
   "metadata": {},
   "outputs": [
    {
     "name": "stdout",
     "output_type": "stream",
     "text": [
      "2\n",
      "2\n"
     ]
    }
   ],
   "source": [
    "class Stack:\n",
    "    def __init__(self):\n",
    "        self.stack = []\n",
    "\n",
    "    def push(self, item):\n",
    "        self.stack.append(item)\n",
    "\n",
    "    def pop(self):\n",
    "        return self.stack.pop() if self.stack else None\n",
    "\n",
    "    def peek(self):\n",
    "        return self.stack[-1] if self.stack else None\n",
    "\n",
    "\n",
    "s = Stack()\n",
    "s.push(1)\n",
    "s.push(2)\n",
    "print(s.peek())  \n",
    "print(s.pop())   \n"
   ]
  },
  {
   "cell_type": "code",
   "execution_count": 10,
   "id": "a0fd7edb-817e-48ca-b0d1-4e67792a64fa",
   "metadata": {},
   "outputs": [
    {
     "name": "stdout",
     "output_type": "stream",
     "text": [
      "3\n"
     ]
    }
   ],
   "source": [
    "def longest_unique_substring(s):\n",
    "    start, max_len = 0, 0\n",
    "    used_chars = {}\n",
    "    for i, char in enumerate(s):\n",
    "        if char in used_chars and used_chars[char] >= start:\n",
    "            start = used_chars[char] + 1\n",
    "        max_len = max(max_len, i - start + 1)\n",
    "        used_chars[char] = i\n",
    "    return max_len\n",
    "\n",
    "s = \"abcabcbb\"\n",
    "print(longest_unique_substring(s))  \n"
   ]
  },
  {
   "cell_type": "code",
   "execution_count": 12,
   "id": "f5b1a593-a845-4168-aa0c-80cf9116b0df",
   "metadata": {},
   "outputs": [
    {
     "name": "stdout",
     "output_type": "stream",
     "text": [
      "[(1,), (2,), (3,), (1, 2), (1, 3), (2, 3), (1, 2, 3)]\n"
     ]
    }
   ],
   "source": [
    "from itertools import combinations\n",
    "\n",
    "def generate_combinations(lst):\n",
    "    result = []\n",
    "    for r in range(1, len(lst) + 1):\n",
    "        result.extend(combinations(lst, r))\n",
    "    return result\n",
    "\n",
    "\n",
    "lst = [1, 2, 3]\n",
    "print(list(generate_combinations(lst)))\n",
    "\n"
   ]
  },
  {
   "cell_type": "code",
   "execution_count": 13,
   "id": "930eef4c-ecf5-4c39-a6a1-691a3c04ae73",
   "metadata": {},
   "outputs": [
    {
     "name": "stdout",
     "output_type": "stream",
     "text": [
      "True\n"
     ]
    }
   ],
   "source": [
    "def are_anagrams(str1, str2):\n",
    "    return sorted(str1) == sorted(str2)\n",
    "\n",
    "str1 = \"listen\"\n",
    "str2 = \"silent\"\n",
    "print(are_anagrams(str1, str2))  \n"
   ]
  },
  {
   "cell_type": "code",
   "execution_count": 14,
   "id": "8123fa8b-6b5a-41e0-8fb3-239c850a3dd0",
   "metadata": {},
   "outputs": [
    {
     "name": "stdout",
     "output_type": "stream",
     "text": [
      "<__main__.Node object at 0x000002AD32B6B350>\n"
     ]
    }
   ],
   "source": [
    "class Node:\n",
    "    def __init__(self, key):\n",
    "        self.left = None\n",
    "        self.right = None\n",
    "        self.val = key\n",
    "\n",
    "class BinarySearchTree:\n",
    "    def insert(self, root, key):\n",
    "        if root is None:\n",
    "            return Node(key)\n",
    "        if key < root.val:\n",
    "            root.left = self.insert(root.left, key)\n",
    "        else:\n",
    "            root.right = self.insert(root.right, key)\n",
    "        return root\n",
    "\n",
    "    def search(self, root, key):\n",
    "        if root is None or root.val == key:\n",
    "            return root\n",
    "        if key < root.val:\n",
    "            return self.search(root.left, key)\n",
    "        return self.search(root.right, key)\n",
    "\n",
    "\n",
    "tree = BinarySearchTree()\n",
    "root = tree.insert(None, 50)\n",
    "tree.insert(root, 30)\n",
    "tree.insert(root, 70)\n",
    "print(tree.search(root, 30)) \n"
   ]
  },
  {
   "cell_type": "code",
   "execution_count": 15,
   "id": "1f9d8a7c-2c7d-4199-8d4f-476d95db3b01",
   "metadata": {},
   "outputs": [
    {
     "name": "stdout",
     "output_type": "stream",
     "text": [
      "True\n"
     ]
    }
   ],
   "source": [
    "def is_leap_year(year):\n",
    "    return year % 4 == 0 and (year % 100 != 0 or year % 400 == 0)\n",
    "\n",
    "\n",
    "year = 2020\n",
    "print(is_leap_year(year))  \n"
   ]
  },
  {
   "cell_type": "code",
   "execution_count": 16,
   "id": "0103ded2-2de9-4c25-a807-add7f5898e34",
   "metadata": {},
   "outputs": [
    {
     "name": "stdout",
     "output_type": "stream",
     "text": [
      "7\n"
     ]
    }
   ],
   "source": [
    "def kth_smallest(arr, k):\n",
    "    arr.sort()\n",
    "    return arr[k - 1]\n",
    "\n",
    "\n",
    "arr = [7, 10, 4, 3, 20, 15]\n",
    "k = 3\n",
    "print(kth_smallest(arr, k)) "
   ]
  },
  {
   "cell_type": "code",
   "execution_count": 17,
   "id": "868c570d-d1f4-4df1-80d3-5796b2c56b4a",
   "metadata": {},
   "outputs": [
    {
     "name": "stdout",
     "output_type": "stream",
     "text": [
      "10\n"
     ]
    }
   ],
   "source": [
    "def sum_of_digits(n):\n",
    "    if n == 0:\n",
    "        return 0\n",
    "    return n % 10 + sum_of_digits(n // 10)\n",
    "\n",
    "\n",
    "n = 1234\n",
    "print(sum_of_digits(n))  \n"
   ]
  },
  {
   "cell_type": "code",
   "execution_count": 18,
   "id": "d23ab311-ae24-4d72-8dd0-6b8b39780547",
   "metadata": {},
   "outputs": [
    {
     "name": "stdout",
     "output_type": "stream",
     "text": [
      "(2, 8)\n"
     ]
    }
   ],
   "source": [
    "def count_letters(s):\n",
    "    uppercase, lowercase = 0, 0\n",
    "    for char in s:\n",
    "        if char.isupper():\n",
    "            uppercase += 1\n",
    "        elif char.islower():\n",
    "            lowercase += 1\n",
    "    return uppercase, lowercase\n",
    "\n",
    "\n",
    "s = \"Hello World\"\n",
    "print(count_letters(s))  \n"
   ]
  },
  {
   "cell_type": "code",
   "execution_count": 19,
   "id": "2c9c2d86-fff2-408c-adb9-cbaecc220ec0",
   "metadata": {},
   "outputs": [
    {
     "name": "stdout",
     "output_type": "stream",
     "text": [
      "[11, 12, 22, 25, 34, 64, 90]\n"
     ]
    }
   ],
   "source": [
    "def bubble_sort(arr):\n",
    "    n = len(arr)\n",
    "    for i in range(n):\n",
    "        for j in range(0, n-i-1):\n",
    "            if arr[j] > arr[j+1]:\n",
    "                arr[j], arr[j+1] = arr[j+1], arr[j]\n",
    "\n",
    "\n",
    "arr = [64, 34, 25, 12, 22, 11, 90]\n",
    "bubble_sort(arr)\n",
    "print(arr)  \n"
   ]
  },
  {
   "cell_type": "code",
   "execution_count": 20,
   "id": "0668093c-9ee0-4347-9c25-93b7074f880d",
   "metadata": {},
   "outputs": [
    {
     "name": "stdout",
     "output_type": "stream",
     "text": [
      "[3, 4]\n"
     ]
    }
   ],
   "source": [
    "def list_intersection(lst1, lst2):\n",
    "    return list(set(lst1) & set(lst2))\n",
    "\n",
    "\n",
    "lst1 = [1, 2, 3, 4]\n",
    "lst2 = [3, 4, 5, 6]\n",
    "print(list_intersection(lst1, lst2))  \n"
   ]
  },
  {
   "cell_type": "code",
   "execution_count": null,
   "id": "96f0aefc-9718-407a-8c94-745b8fbe4613",
   "metadata": {},
   "outputs": [],
   "source": []
  }
 ],
 "metadata": {
  "kernelspec": {
   "display_name": "Python 3 (ipykernel)",
   "language": "python",
   "name": "python3"
  },
  "language_info": {
   "codemirror_mode": {
    "name": "ipython",
    "version": 3
   },
   "file_extension": ".py",
   "mimetype": "text/x-python",
   "name": "python",
   "nbconvert_exporter": "python",
   "pygments_lexer": "ipython3",
   "version": "3.12.5"
  }
 },
 "nbformat": 4,
 "nbformat_minor": 5
}
